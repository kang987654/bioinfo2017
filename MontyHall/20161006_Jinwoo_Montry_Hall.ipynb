{
 "cells": [
  {
   "cell_type": "code",
   "execution_count": 18,
   "metadata": {
    "collapsed": false
   },
   "outputs": [
    {
     "name": "stdout",
     "output_type": "stream",
     "text": [
      "If you keep the choice: 363 times\n",
      "If you change the choice: 637 times\n",
      "The probability when changed the choice: 0.637\n"
     ]
    }
   ],
   "source": [
    "import random\n",
    "\n",
    "keep = 0 # first choice is car\n",
    "change = 0 # change choice is car\n",
    "def setting_doors(): # put a car behind one door\n",
    "    door = ['goat', 'goat', 'goat']\n",
    "    door[random.randint(0,2)] = 'car' # change a goat to a car\n",
    "    return door\n",
    "\n",
    "for f in range(1000): # playing the game 1000 times, f for first\n",
    "    doors = setting_doors()\n",
    "    first_choice = random.randint(0,2) # choose a random door\n",
    "    for r in range(3): # reveal unchosen goat door, r for reveal\n",
    "        if r != first_choice and doors[r] != 'car':\n",
    "             doors[r] = 'reveal'\n",
    "\n",
    "    if doors[first_choice] == 'car': # doesn't change the choice\n",
    "        keep = keep + 1\n",
    "    else: # change the choice\n",
    "        change = change + 1\n",
    "\n",
    "print (\"If you keep the choice:\", keep, \"times\")\n",
    "print (\"If you change the choice:\", change, \"times\")\n",
    "print (\"The probability when changed the choice:\", change/1000)"
   ]
  }
 ],
 "metadata": {
  "kernelspec": {
   "display_name": "Python 3",
   "language": "python",
   "name": "python3"
  },
  "language_info": {
   "codemirror_mode": {
    "name": "ipython",
    "version": 3
   },
   "file_extension": ".py",
   "mimetype": "text/x-python",
   "name": "python",
   "nbconvert_exporter": "python",
   "pygments_lexer": "ipython3",
   "version": "3.6.0"
  }
 },
 "nbformat": 4,
 "nbformat_minor": 2
}
